{
  "nbformat": 4,
  "nbformat_minor": 0,
  "metadata": {
    "colab": {
      "provenance": [],
      "authorship_tag": "ABX9TyPwgfuHZrD8E1XlKq+EupWJ",
      "include_colab_link": true
    },
    "kernelspec": {
      "name": "python3",
      "display_name": "Python 3"
    },
    "language_info": {
      "name": "python"
    }
  },
  "cells": [
    {
      "cell_type": "markdown",
      "metadata": {
        "id": "view-in-github",
        "colab_type": "text"
      },
      "source": [
        "<a href=\"https://colab.research.google.com/github/blaram/SupermarketSalesAnalysis/blob/main/SupermarketSalesAnalysis.ipynb\" target=\"_parent\"><img src=\"https://colab.research.google.com/assets/colab-badge.svg\" alt=\"Open In Colab\"/></a>"
      ]
    },
    {
      "cell_type": "markdown",
      "source": [
        "# Configuración del ambiente"
      ],
      "metadata": {
        "id": "RIil2m5huTee"
      }
    },
    {
      "cell_type": "markdown",
      "source": [
        "En este proyecto se usan dos variables que serán manipuladas dentro de varias funciones, estas variables son conocidas como variables globales, y se definen de la siguiente manera:\n",
        "\n",
        "`global df_ventas, df_ventas_limpio`\n",
        "\n",
        "También se necesita importar algunas librerías de Python que son esenciales para este proyecto, como `pandas as pd`, `matplotlib.pyplot as plt` y `matplotlib.dates as mdates`."
      ],
      "metadata": {
        "id": "HTqW6KCrwCJO"
      }
    },
    {
      "cell_type": "code",
      "execution_count": 1,
      "metadata": {
        "id": "oDpNHE-NtEwF"
      },
      "outputs": [],
      "source": [
        "import pandas as pd\n",
        "import matplotlib.pyplot as plt\n",
        "import matplotlib.dates as mdates\n",
        "global df_ventas, df_ventas_limpio"
      ]
    },
    {
      "cell_type": "markdown",
      "source": [
        "Para estar seguros de que tenemos todo listo en nuestro Ambiente, podemos ejecutamos las siguientes líneas de código:"
      ],
      "metadata": {
        "id": "eZapBbpTz4Yo"
      }
    },
    {
      "cell_type": "code",
      "source": [
        "!python -V\n",
        "print('------')\n",
        "!pip show Pandas | grep 'Name\\|Version'\n",
        "print('------')\n",
        "!pip show Matplotlib | grep 'Name\\|Version'"
      ],
      "metadata": {
        "colab": {
          "base_uri": "https://localhost:8080/"
        },
        "id": "P8m9tWtcz3bW",
        "outputId": "113096c8-2f89-415f-dd98-ad616d0678e1"
      },
      "execution_count": 2,
      "outputs": [
        {
          "output_type": "stream",
          "name": "stdout",
          "text": [
            "Python 3.10.12\n",
            "------\n",
            "Name: pandas\n",
            "Version: 1.5.3\n",
            "------\n",
            "Name: matplotlib\n",
            "Version: 3.7.1\n"
          ]
        }
      ]
    },
    {
      "cell_type": "markdown",
      "source": [],
      "metadata": {
        "id": "lGelPMr00PHD"
      }
    },
    {
      "cell_type": "code",
      "source": [],
      "metadata": {
        "id": "ENHLA4Al0Ls2"
      },
      "execution_count": null,
      "outputs": []
    }
  ]
}